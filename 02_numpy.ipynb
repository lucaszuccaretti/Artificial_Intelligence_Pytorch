{
 "cells": [
  {
   "cell_type": "code",
   "execution_count": 2,
   "metadata": {},
   "outputs": [
    {
     "name": "stdout",
     "output_type": "stream",
     "text": [
      "<class 'numpy.ndarray'> (3,) 1 2 3\n",
      "[1 2 3]\n"
     ]
    }
   ],
   "source": [
    "import numpy as np\n",
    "\n",
    "#  Inicializar Arrays\n",
    "a = np.array([1, 2, 3])   # Crea un array de rango 1\n",
    "print(type(a), a.shape, a[0], a[1], a[2])\n",
    "print (a)"
   ]
  },
  {
   "cell_type": "code",
   "execution_count": 3,
   "metadata": {},
   "outputs": [
    {
     "name": "stdout",
     "output_type": "stream",
     "text": [
      "<class 'numpy.ndarray'> (2, 2) 0.0 0.0 0.0 0.0\n",
      "[[0. 0.]\n",
      " [0. 0.]]\n"
     ]
    }
   ],
   "source": [
    "a = np.zeros((2,2))   # Crea un array de 2x2 de ceros\n",
    "print(type(a), a.shape, a[0, 0], a[0, 1], a[1, 0], a[1, 1])\n",
    "print (a)"
   ]
  },
  {
   "cell_type": "code",
   "execution_count": 12,
   "metadata": {},
   "outputs": [
    {
     "name": "stdout",
     "output_type": "stream",
     "text": [
      "<class 'numpy.ndarray'> (3, 2, 3, 2)\n",
      "[[[[1. 1.]\n",
      "   [1. 1.]\n",
      "   [1. 1.]]\n",
      "\n",
      "  [[1. 1.]\n",
      "   [1. 1.]\n",
      "   [1. 1.]]]\n",
      "\n",
      "\n",
      " [[[1. 1.]\n",
      "   [1. 1.]\n",
      "   [1. 1.]]\n",
      "\n",
      "  [[1. 1.]\n",
      "   [1. 1.]\n",
      "   [1. 1.]]]\n",
      "\n",
      "\n",
      " [[[1. 1.]\n",
      "   [1. 1.]\n",
      "   [1. 1.]]\n",
      "\n",
      "  [[1. 1.]\n",
      "   [1. 1.]\n",
      "   [1. 1.]]]]\n",
      "36\n",
      "4\n"
     ]
    }
   ],
   "source": [
    "a = np.ones((3,2,3,2))    # Crea un array de 1x2 de unos\n",
    "print(type(a), a.shape)\n",
    "print (a)\n",
    "print (a.size) #cantidad de valores\n",
    "print (a.ndim) #cantidad de dimensiones\n"
   ]
  },
  {
   "cell_type": "code",
   "execution_count": 16,
   "metadata": {},
   "outputs": [
    {
     "name": "stdout",
     "output_type": "stream",
     "text": [
      "[0 2 4 6 8]\n"
     ]
    }
   ],
   "source": [
    "a = np.arange(0, 10, 2, dtype=np.uint8)   # Crea un array de 0 a 10 con saltos de 2"
   ]
  },
  {
   "cell_type": "code",
   "execution_count": 17,
   "metadata": {},
   "outputs": [
    {
     "data": {
      "text/plain": [
       "array([0, 2, 4, 6, 8], dtype=uint8)"
      ]
     },
     "execution_count": 17,
     "metadata": {},
     "output_type": "execute_result"
    }
   ],
   "source": [
    "a # todos los valores de a son enteros sin signo de 8 bits"
   ]
  },
  {
   "cell_type": "code",
   "execution_count": 48,
   "metadata": {},
   "outputs": [
    {
     "name": "stdout",
     "output_type": "stream",
     "text": [
      "CPU times: total: 1min 36s\n",
      "Wall time: 1min 46s\n"
     ]
    }
   ],
   "source": [
    "def slow(n=10000):\n",
    "    x = np.linspace(-1, 1, n)\n",
    "    y = np.linspace(-1, 1, n)\n",
    "    z = np.empty((n, n))\n",
    "\n",
    "    #print (\"y, size:\", y.size, \"--- shape:\", y.shape)\n",
    "    #print (\"x, size:\", x.size, \"--- shape:\", x.shape)\n",
    "    #print (\"z, size:\", z.size, \"--- shape:\", z.shape, \"\\n\")\n",
    "\n",
    "    for i, _y in enumerate(y):\n",
    "        for j, _x in enumerate(x):\n",
    "            z[i, j] = np.sqrt(_x**2 + _y**2)\n",
    "            #print (\"i: \", i, \" _y: \", round(_y,2), \" j: \", j, \" _x: \", round(_x,2), \" z[i, j]: \", round(z[i, j],2))\n",
    "    return x, y, z\n",
    "%time x, y, z = slow()\n",
    "\n"
   ]
  },
  {
   "cell_type": "code",
   "execution_count": 49,
   "metadata": {},
   "outputs": [
    {
     "name": "stdout",
     "output_type": "stream",
     "text": [
      "CPU times: total: 875 ms\n",
      "Wall time: 981 ms\n"
     ]
    }
   ],
   "source": [
    "def rapido(n=10000):\n",
    "    p = np.linspace(-1, 1, n)\n",
    "    x, y = np.meshgrid(p, p)\n",
    "    z = np.sqrt(x**2 + y**2)\n",
    "    return x, y, z\n",
    "    \n",
    "%time x, y, z = rapido()"
   ]
  },
  {
   "cell_type": "code",
   "execution_count": 58,
   "metadata": {},
   "outputs": [
    {
     "name": "stdout",
     "output_type": "stream",
     "text": [
      "[-100.          -95.91836735  -91.83673469  -87.75510204  -83.67346939\n",
      "  -79.59183673  -75.51020408  -71.42857143  -67.34693878  -63.26530612\n",
      "  -59.18367347  -55.10204082  -51.02040816  -46.93877551  -42.85714286\n",
      "  -38.7755102   -34.69387755  -30.6122449   -26.53061224  -22.44897959\n",
      "  -18.36734694  -14.28571429  -10.20408163   -6.12244898   -2.04081633\n",
      "    2.04081633    6.12244898   10.20408163   14.28571429   18.36734694\n",
      "   22.44897959   26.53061224   30.6122449    34.69387755   38.7755102\n",
      "   42.85714286   46.93877551   51.02040816   55.10204082   59.18367347\n",
      "   63.26530612   67.34693878   71.42857143   75.51020408   79.59183673\n",
      "   83.67346939   87.75510204   91.83673469   95.91836735  100.        ]\n",
      "50\n"
     ]
    }
   ],
   "source": [
    "x = np.linspace(-100,100)\n",
    "print (x)\n",
    "print (x.size)"
   ]
  }
 ],
 "metadata": {
  "kernelspec": {
   "display_name": "Python 3",
   "language": "python",
   "name": "python3"
  },
  "language_info": {
   "codemirror_mode": {
    "name": "ipython",
    "version": 3
   },
   "file_extension": ".py",
   "mimetype": "text/x-python",
   "name": "python",
   "nbconvert_exporter": "python",
   "pygments_lexer": "ipython3",
   "version": "3.10.2"
  },
  "orig_nbformat": 4,
  "vscode": {
   "interpreter": {
    "hash": "13a265ff8589b658a7fffd72ca574585cf66e0340da4c8c8bf5fb7e4021caf06"
   }
  }
 },
 "nbformat": 4,
 "nbformat_minor": 2
}
