{
 "cells": [
  {
   "cell_type": "code",
   "execution_count": 1,
   "metadata": {},
   "outputs": [
    {
     "name": "stdout",
     "output_type": "stream",
     "text": [
      "\n",
      "-----\n",
      "With Native Python\n",
      "-----\n",
      "\n",
      "Creating a list of 100 million numbers\n",
      "CPU times: total: 2.55 s\n",
      "Wall time: 3.17 s\n",
      "\n",
      "Creating a list of 100 million numbers squared\n",
      "CPU times: total: 20.6 s\n",
      "Wall time: 22.4 s\n"
     ]
    },
    {
     "ename": "NameError",
     "evalue": "name 's' is not defined",
     "output_type": "error",
     "traceback": [
      "\u001b[1;31m---------------------------------------------------------------------------\u001b[0m",
      "\u001b[1;31mNameError\u001b[0m                                 Traceback (most recent call last)",
      "\u001b[1;32mc:\\Users\\Killer\\Desktop\\AI\\Code\\01_numpy_vs_python.ipynb Cell 1\u001b[0m in \u001b[0;36m<cell line: 10>\u001b[1;34m()\u001b[0m\n\u001b[0;32m      <a href='vscode-notebook-cell:/c%3A/Users/Killer/Desktop/AI/Code/01_numpy_vs_python.ipynb#W0sZmlsZQ%3D%3D?line=7'>8</a>\u001b[0m \u001b[39mprint\u001b[39m(\u001b[39m\"\u001b[39m\u001b[39m\\n\u001b[39;00m\u001b[39mCreating a list of 100 million numbers squared\u001b[39m\u001b[39m\"\u001b[39m)\n\u001b[0;32m      <a href='vscode-notebook-cell:/c%3A/Users/Killer/Desktop/AI/Code/01_numpy_vs_python.ipynb#W0sZmlsZQ%3D%3D?line=8'>9</a>\u001b[0m get_ipython()\u001b[39m.\u001b[39mrun_line_magic(\u001b[39m'\u001b[39m\u001b[39mtime\u001b[39m\u001b[39m'\u001b[39m, \u001b[39m'\u001b[39m\u001b[39mi2 = [i**2 for i in i]\u001b[39m\u001b[39m'\u001b[39m)\n\u001b[1;32m---> <a href='vscode-notebook-cell:/c%3A/Users/Killer/Desktop/AI/Code/01_numpy_vs_python.ipynb#W0sZmlsZQ%3D%3D?line=9'>10</a>\u001b[0m s\n\u001b[0;32m     <a href='vscode-notebook-cell:/c%3A/Users/Killer/Desktop/AI/Code/01_numpy_vs_python.ipynb#W0sZmlsZQ%3D%3D?line=10'>11</a>\u001b[0m \u001b[39mprint\u001b[39m (\u001b[39m\"\u001b[39m\u001b[39m\\n\u001b[39;00m\u001b[39m-----\u001b[39m\u001b[39m\"\u001b[39m)\n\u001b[0;32m     <a href='vscode-notebook-cell:/c%3A/Users/Killer/Desktop/AI/Code/01_numpy_vs_python.ipynb#W0sZmlsZQ%3D%3D?line=11'>12</a>\u001b[0m \u001b[39mprint\u001b[39m (\u001b[39m\"\u001b[39m\u001b[39mWith Numpy\u001b[39m\u001b[39m\"\u001b[39m)\n",
      "\u001b[1;31mNameError\u001b[0m: name 's' is not defined"
     ]
    }
   ],
   "source": [
    "print (\"\\n-----\")\n",
    "print (\"With Native Python\")\n",
    "print (\"-----\\n\")\n",
    "\n",
    "print(\"Creating a list of 100 million numbers\")\n",
    "%time i = [i for i in range(100000000)]\n",
    "\n",
    "print(\"\\nCreating a list of 100 million numbers squared\")\n",
    "%time i2 = [i**2 for i in i]\n",
    "s\n",
    "print (\"\\n-----\")\n",
    "print (\"With Numpy\")\n",
    "print (\"-----\\n\")\n",
    "\n",
    "print (\"\\nImport numpy (only need to do this once\")\n",
    "%time import numpy as np\n",
    "\n",
    "print (\"\\nConvert a numpy array of 100 million numbers\")\n",
    "%time a = np.array(i)\n",
    "\n",
    "print(\"\\nCreating a list of 100 million numbers squared\")\n",
    "%time a2 = a**2"
   ]
  },
  {
   "cell_type": "code",
   "execution_count": null,
   "metadata": {},
   "outputs": [],
   "source": []
  }
 ],
 "metadata": {
  "kernelspec": {
   "display_name": "Python 3",
   "language": "python",
   "name": "python3"
  },
  "language_info": {
   "codemirror_mode": {
    "name": "ipython",
    "version": 3
   },
   "file_extension": ".py",
   "mimetype": "text/x-python",
   "name": "python",
   "nbconvert_exporter": "python",
   "pygments_lexer": "ipython3",
   "version": "3.10.2"
  },
  "orig_nbformat": 4,
  "vscode": {
   "interpreter": {
    "hash": "13a265ff8589b658a7fffd72ca574585cf66e0340da4c8c8bf5fb7e4021caf06"
   }
  }
 },
 "nbformat": 4,
 "nbformat_minor": 2
}
