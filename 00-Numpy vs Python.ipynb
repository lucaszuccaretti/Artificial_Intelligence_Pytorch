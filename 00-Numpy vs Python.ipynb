{
 "cells": [
  {
   "cell_type": "code",
   "execution_count": 1,
   "metadata": {},
   "outputs": [
    {
     "name": "stdout",
     "output_type": "stream",
     "text": [
      "\n",
      "-----\n",
      "With Native Python\n",
      "-----\n",
      "\n",
      "Creating a list of 100 million numbers\n",
      "CPU times: total: 2.48 s\n",
      "Wall time: 3.3 s\n",
      "\n",
      "Creating a list of 100 million numbers squared\n",
      "CPU times: total: 19.5 s\n",
      "Wall time: 22.8 s\n",
      "\n",
      "-----\n",
      "With Numpy\n",
      "-----\n",
      "\n",
      "\n",
      "Import numpy (only need to do this once\n",
      "CPU times: total: 1.75 s\n",
      "Wall time: 2.04 s\n",
      "\n",
      "Convert a numpy array of 100 million numbers\n",
      "CPU times: total: 4.05 s\n",
      "Wall time: 4.45 s\n",
      "\n",
      "Creating a list of 100 million numbers squared\n",
      "CPU times: total: 375 ms\n",
      "Wall time: 410 ms\n"
     ]
    }
   ],
   "source": [
    "print (\"\\n-----\")\n",
    "print (\"With Native Python\")\n",
    "print (\"-----\\n\")\n",
    "\n",
    "print(\"Creating a list of 100 million numbers\")\n",
    "%time i = [i for i in range(100000000)]\n",
    "\n",
    "print(\"\\nCreating a list of 100 million numbers squared\")\n",
    "%time i2 = [i**2 for i in i]\n",
    "\n",
    "print (\"\\n-----\")\n",
    "print (\"With Numpy\")\n",
    "print (\"-----\\n\")\n",
    "\n",
    "print (\"\\nImport numpy (only need to do this once)\")\n",
    "%time import numpy as np\n",
    "\n",
    "print (\"\\nConvert a numpy array of 100 million numbers\")\n",
    "%time a = np.array(i)\n",
    "\n",
    "print(\"\\nCreating a list of 100 million numbers squared\")\n",
    "%time a2 = a**2"
   ]
  },
  {
   "cell_type": "code",
   "execution_count": null,
   "metadata": {},
   "outputs": [],
   "source": []
  }
 ],
 "metadata": {
  "kernelspec": {
   "display_name": "Python 3",
   "language": "python",
   "name": "python3"
  },
  "language_info": {
   "codemirror_mode": {
    "name": "ipython",
    "version": 3
   },
   "file_extension": ".py",
   "mimetype": "text/x-python",
   "name": "python",
   "nbconvert_exporter": "python",
   "pygments_lexer": "ipython3",
   "version": "3.10.2"
  },
  "orig_nbformat": 4,
  "vscode": {
   "interpreter": {
    "hash": "13a265ff8589b658a7fffd72ca574585cf66e0340da4c8c8bf5fb7e4021caf06"
   }
  }
 },
 "nbformat": 4,
 "nbformat_minor": 2
}
